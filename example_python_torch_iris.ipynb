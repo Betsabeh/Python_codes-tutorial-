{
  "nbformat": 4,
  "nbformat_minor": 0,
  "metadata": {
    "colab": {
      "provenance": [],
      "authorship_tag": "ABX9TyMxKZX8exM61BPLuMubKU6M",
      "include_colab_link": true
    },
    "kernelspec": {
      "name": "python3",
      "display_name": "Python 3"
    },
    "language_info": {
      "name": "python"
    }
  },
  "cells": [
    {
      "cell_type": "markdown",
      "metadata": {
        "id": "view-in-github",
        "colab_type": "text"
      },
      "source": [
        "<a href=\"https://colab.research.google.com/github/Betsabeh/Python_codes-tutorial-/blob/main/example_python_torch_iris.ipynb\" target=\"_parent\"><img src=\"https://colab.research.google.com/assets/colab-badge.svg\" alt=\"Open In Colab\"/></a>"
      ]
    },
    {
      "cell_type": "code",
      "execution_count": null,
      "metadata": {
        "id": "oJY_R_lLLHSL"
      },
      "outputs": [],
      "source": [
        "#import standard library\n",
        "import pandas as pd\n",
        "import numpy as np\n",
        "import matplotlib.pyplot as plt\n",
        "from sklearn.model_selection import train_test_split\n",
        "\n",
        "import torch\n",
        "import torch.nn as nn\n",
        "from torchsummary import summary\n",
        "import torch.optim as optim\n",
        "\n"
      ]
    },
    {
      "cell_type": "code",
      "source": [
        "#import data\n",
        "data = pd.read_csv(\"iris.data\")\n",
        "print(\"Data format:\")\n",
        "print(data.head())\n",
        "\n",
        "#separate features and labels\n",
        "X = data.iloc[:,:-1]\n",
        "Y =data.iloc[:,-1]\n",
        "numeric_Y = Y.replace({'Iris-setosa': 0, 'Iris-versicolor': 1, 'Iris-virginica': 2})\n",
        "\n",
        "#separate Train and Test data\n",
        "X_train, X_test, Y_train, Y_test = train_test_split(X,numeric_Y)\n",
        "print(\"------------------------------------\")\n",
        "print(\"Train size=\", np.shape(X_train))\n",
        "print(\"Test size=\", np.shape(X_test))\n",
        "X_train = torch.tensor(X_train.values, dtype=torch.float32)\n",
        "X_test = torch.tensor(X_test.values, dtype=torch.float32)\n",
        "Y_train = torch.tensor(Y_train.values, dtype=torch.long)\n",
        "Y_test = torch.tensor(Y_test.values, dtype=torch.long)\n"
      ],
      "metadata": {
        "colab": {
          "base_uri": "https://localhost:8080/"
        },
        "id": "srRMI3KWLdVM",
        "outputId": "b8fc3a48-6991-4515-da05-97780882c91a"
      },
      "execution_count": null,
      "outputs": [
        {
          "output_type": "stream",
          "name": "stdout",
          "text": [
            "Data format:\n",
            "   5.1  3.5  1.4  0.2  Iris-setosa\n",
            "0  4.9  3.0  1.4  0.2  Iris-setosa\n",
            "1  4.7  3.2  1.3  0.2  Iris-setosa\n",
            "2  4.6  3.1  1.5  0.2  Iris-setosa\n",
            "3  5.0  3.6  1.4  0.2  Iris-setosa\n",
            "4  5.4  3.9  1.7  0.4  Iris-setosa\n",
            "------------------------------------\n",
            "Train size= (111, 4)\n",
            "Test size= (38, 4)\n"
          ]
        },
        {
          "output_type": "stream",
          "name": "stderr",
          "text": [
            "<ipython-input-11-2632e07cd6d9>:9: FutureWarning: Downcasting behavior in `replace` is deprecated and will be removed in a future version. To retain the old behavior, explicitly call `result.infer_objects(copy=False)`. To opt-in to the future behavior, set `pd.set_option('future.no_silent_downcasting', True)`\n",
            "  numeric_Y = Y.replace({'Iris-setosa': 0, 'Iris-versicolor': 1, 'Iris-virginica': 2})\n"
          ]
        }
      ]
    },
    {
      "cell_type": "code",
      "source": [
        "#create a model\n",
        "model = nn.Sequential(\n",
        "    nn.Linear(in_features= 4,out_features=16),\n",
        "    nn.ReLU(),\n",
        "    nn.Linear(in_features=16,out_features=16),\n",
        "    nn.ReLU(),\n",
        "    nn.Linear(in_features=16, out_features=3),\n",
        "    nn.Softmax(dim=1)\n",
        ")\n",
        "print(summary(model, (4,)))\n"
      ],
      "metadata": {
        "colab": {
          "base_uri": "https://localhost:8080/"
        },
        "id": "gGT6_Ue-Lyxb",
        "outputId": "c0226242-78e7-40b7-e8cf-a1755190aec8"
      },
      "execution_count": null,
      "outputs": [
        {
          "output_type": "stream",
          "name": "stdout",
          "text": [
            "----------------------------------------------------------------\n",
            "        Layer (type)               Output Shape         Param #\n",
            "================================================================\n",
            "            Linear-1                   [-1, 16]              80\n",
            "              ReLU-2                   [-1, 16]               0\n",
            "            Linear-3                   [-1, 16]             272\n",
            "              ReLU-4                   [-1, 16]               0\n",
            "            Linear-5                    [-1, 3]              51\n",
            "           Softmax-6                    [-1, 3]               0\n",
            "================================================================\n",
            "Total params: 403\n",
            "Trainable params: 403\n",
            "Non-trainable params: 0\n",
            "----------------------------------------------------------------\n",
            "Input size (MB): 0.00\n",
            "Forward/backward pass size (MB): 0.00\n",
            "Params size (MB): 0.00\n",
            "Estimated Total Size (MB): 0.00\n",
            "----------------------------------------------------------------\n",
            "None\n"
          ]
        }
      ]
    },
    {
      "cell_type": "code",
      "source": [
        "criterion = nn.CrossEntropyLoss()\n",
        "optimizer = optim.Adam(model.parameters(), lr=0.001)\n",
        "epochs = 50\n",
        "losser =[]\n",
        "\n",
        "for epoch in range(epochs):\n",
        "    optimizer.zero_grad()\n",
        "    outputs = model(X_train)\n",
        "    loss = criterion(outputs, Y_train)\n",
        "    loss.backward()\n",
        "    optimizer.step()\n",
        "\n",
        "    print(f\"Epoch {epoch+1}/{epochs}, Loss: {loss.item():.4f}\")\n",
        "    losser.append(loss.item())\n",
        "\n",
        "\n",
        "plt.plot(losser)\n",
        "plt.xlabel(\"Epoch\")\n",
        "plt.ylabel(\"Loss\")\n",
        "plt.title(\"Loss vs Epoch\")\n",
        "plt.show()\n",
        "\n",
        "\n"
      ],
      "metadata": {
        "colab": {
          "base_uri": "https://localhost:8080/",
          "height": 1000
        },
        "id": "PRI_hdigS5QH",
        "outputId": "8627be2e-ef38-4fb8-85dd-871f2f8cdc15"
      },
      "execution_count": null,
      "outputs": [
        {
          "output_type": "stream",
          "name": "stdout",
          "text": [
            "Epoch 1/50, Loss: 1.0657\n",
            "Epoch 2/50, Loss: 1.0638\n",
            "Epoch 3/50, Loss: 1.0620\n",
            "Epoch 4/50, Loss: 1.0601\n",
            "Epoch 5/50, Loss: 1.0583\n",
            "Epoch 6/50, Loss: 1.0564\n",
            "Epoch 7/50, Loss: 1.0546\n",
            "Epoch 8/50, Loss: 1.0528\n",
            "Epoch 9/50, Loss: 1.0510\n",
            "Epoch 10/50, Loss: 1.0491\n",
            "Epoch 11/50, Loss: 1.0473\n",
            "Epoch 12/50, Loss: 1.0455\n",
            "Epoch 13/50, Loss: 1.0436\n",
            "Epoch 14/50, Loss: 1.0418\n",
            "Epoch 15/50, Loss: 1.0399\n",
            "Epoch 16/50, Loss: 1.0380\n",
            "Epoch 17/50, Loss: 1.0360\n",
            "Epoch 18/50, Loss: 1.0341\n",
            "Epoch 19/50, Loss: 1.0321\n",
            "Epoch 20/50, Loss: 1.0300\n",
            "Epoch 21/50, Loss: 1.0280\n",
            "Epoch 22/50, Loss: 1.0258\n",
            "Epoch 23/50, Loss: 1.0237\n",
            "Epoch 24/50, Loss: 1.0215\n",
            "Epoch 25/50, Loss: 1.0192\n",
            "Epoch 26/50, Loss: 1.0169\n",
            "Epoch 27/50, Loss: 1.0146\n",
            "Epoch 28/50, Loss: 1.0122\n",
            "Epoch 29/50, Loss: 1.0098\n",
            "Epoch 30/50, Loss: 1.0073\n",
            "Epoch 31/50, Loss: 1.0048\n",
            "Epoch 32/50, Loss: 1.0022\n",
            "Epoch 33/50, Loss: 0.9996\n",
            "Epoch 34/50, Loss: 0.9970\n",
            "Epoch 35/50, Loss: 0.9943\n",
            "Epoch 36/50, Loss: 0.9916\n",
            "Epoch 37/50, Loss: 0.9889\n",
            "Epoch 38/50, Loss: 0.9861\n",
            "Epoch 39/50, Loss: 0.9832\n",
            "Epoch 40/50, Loss: 0.9803\n",
            "Epoch 41/50, Loss: 0.9774\n",
            "Epoch 42/50, Loss: 0.9744\n",
            "Epoch 43/50, Loss: 0.9714\n",
            "Epoch 44/50, Loss: 0.9684\n",
            "Epoch 45/50, Loss: 0.9653\n",
            "Epoch 46/50, Loss: 0.9623\n",
            "Epoch 47/50, Loss: 0.9592\n",
            "Epoch 48/50, Loss: 0.9561\n",
            "Epoch 49/50, Loss: 0.9529\n",
            "Epoch 50/50, Loss: 0.9498\n"
          ]
        },
        {
          "output_type": "display_data",
          "data": {
            "text/plain": [
              "<Figure size 640x480 with 1 Axes>"
            ],
            "image/png": "[encoded data removed]"
          },
          "metadata": {}
        }
      ]
    },
    {
      "cell_type": "code",
      "source": [
        "model.eval()\n",
        "with torch.no_grad():\n",
        "    outputs = model(X_test)\n",
        "    _, predicted = torch.max(outputs, 1)\n",
        "    accuracy = (predicted == Y_test).sum().item() / len(Y_test)\n",
        "\n",
        "print(\"Test accuracy=\",accuracy)\n",
        "\n"
      ],
      "metadata": {
        "colab": {
          "base_uri": "https://localhost:8080/"
        },
        "id": "SF-38MIBqUvH",
        "outputId": "75aebd03-99ed-45a8-b616-f12742da0b55"
      },
      "execution_count": null,
      "outputs": [
        {
          "output_type": "stream",
          "name": "stdout",
          "text": [
            "Test accuracy= 0.8947368421052632\n"
          ]
        }
      ]
    }
  ]
}